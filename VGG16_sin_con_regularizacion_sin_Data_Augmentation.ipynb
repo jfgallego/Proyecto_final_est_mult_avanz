{
  "cells": [
    {
      "cell_type": "markdown",
      "metadata": {
        "id": "EvcZt18ItH19"
      },
      "source": [
        "# Proyecto Est. Multivariada"
      ]
    },
    {
      "cell_type": "code",
      "execution_count": 1,
      "metadata": {
        "id": "8QA7U6O7sX7P"
      },
      "outputs": [],
      "source": [
        "#Acceder a Drive\n",
        "#from google.colab import drive\n",
        "#drive.mount('/content/drive')"
      ]
    },
    {
      "cell_type": "markdown",
      "metadata": {
        "id": "djorEW4extuU"
      },
      "source": [
        "## Importar librerías"
      ]
    },
    {
      "cell_type": "code",
      "execution_count": null,
      "metadata": {
        "id": "ZzalZGKaxyfx"
      },
      "outputs": [],
      "source": [
        "import tensorflow as tf \n",
        "from tensorflow.keras.utils import image_dataset_from_directory\n",
        "from tensorflow import keras\n",
        "from tensorflow.keras import layers\n",
        "from keras import backend as K\n",
        "import matplotlib.pyplot as plt\n",
        "import numpy as np"
      ]
    },
    {
      "cell_type": "code",
      "execution_count": null,
      "metadata": {
        "colab": {
          "base_uri": "https://localhost:8080/"
        },
        "id": "rjphDc2aGRfz",
        "outputId": "09ed8ee5-f0de-4b36-9bfb-d56f96ed5108"
      },
      "outputs": [
        {
          "name": "stdout",
          "output_type": "stream",
          "text": [
            "Num GPUs Available:  1\n"
          ]
        }
      ],
      "source": [
        "print(\"Num GPUs Available: \", len(tf.config.list_physical_devices('GPU')))"
      ]
    },
    {
      "cell_type": "code",
      "execution_count": null,
      "metadata": {
        "id": "6eCEi4L1uYJu"
      },
      "outputs": [],
      "source": [
        "#Directorio de trabajo\n",
        "#new_base_dir=r\"/content/drive/MyDrive/human_detection_dataset\"\n",
        "new_base_dir=r\"human_detection_dataset\""
      ]
    },
    {
      "cell_type": "markdown",
      "metadata": {
        "id": "1iJz5Oy1weF8"
      },
      "source": [
        "Convierte la información de la imagen de píxeles en un tensor numérico de punto flotante y ajusta el tamaño de la imagen porque todas tienen diferente resolución.\n",
        "\n",
        "Ajustando los datos para que todas las imágenes tengan la misma resolución y se procesen en lotes de 32 por cada pasada del algoritmo descenso de gradiente"
      ]
    },
    {
      "cell_type": "code",
      "execution_count": null,
      "metadata": {
        "colab": {
          "base_uri": "https://localhost:8080/"
        },
        "id": "b2_9Ku17tSD-",
        "outputId": "4ac88529-6ffd-4731-b9e1-eb952867655d"
      },
      "outputs": [
        {
          "name": "stdout",
          "output_type": "stream",
          "text": [
            "Found 307 files belonging to 2 classes.\n",
            "Found 306 files belonging to 2 classes.\n",
            "Found 308 files belonging to 2 classes.\n"
          ]
        }
      ],
      "source": [
        "#Importar datos\n",
        "#batch_size 32\n",
        "n_batch = 32\n",
        "train_dataset = image_dataset_from_directory(\n",
        "    new_base_dir+\"/\"+\"train\",\n",
        "    image_size=(180, 180),\n",
        "    batch_size=n_batch)\n",
        "validation_dataset = image_dataset_from_directory(\n",
        "    new_base_dir+\"/\"+\"validation\",\n",
        "    image_size=(180, 180),\n",
        "    batch_size=n_batch)\n",
        "test_dataset = image_dataset_from_directory(\n",
        "    new_base_dir+\"/\"+\"test\",\n",
        "    image_size=(180, 180),\n",
        "    batch_size=n_batch)"
      ]
    },
    {
      "cell_type": "markdown",
      "metadata": {
        "id": "9WLV67Dmwi-I"
      },
      "source": [
        "Visualizar el tensor asociado a los datos y las etiquetas"
      ]
    },
    {
      "cell_type": "code",
      "execution_count": null,
      "metadata": {
        "colab": {
          "base_uri": "https://localhost:8080/"
        },
        "id": "GPSaeXgOv_8U",
        "outputId": "802625ec-654a-4f94-dd54-5af528a710db"
      },
      "outputs": [
        {
          "name": "stdout",
          "output_type": "stream",
          "text": [
            "data batch shape: (32, 180, 180, 3)\n",
            "labels batch shape: (32,)\n"
          ]
        }
      ],
      "source": [
        "for data_batch, labels_batch in train_dataset:\n",
        "    print(\"data batch shape:\", data_batch.shape)\n",
        "    print(\"labels batch shape:\", labels_batch.shape)\n",
        "    break"
      ]
    },
    {
      "cell_type": "markdown",
      "metadata": {
        "id": "lmoGbROqgp1R"
      },
      "source": [
        "## Métricas a usar\n",
        "\n",
        "Se usará Accuracy, Recall, Precision y F1-score"
      ]
    },
    {
      "cell_type": "code",
      "execution_count": null,
      "metadata": {
        "id": "Iw55FDlCgpHs"
      },
      "outputs": [],
      "source": [
        "def recall_m(y_true, y_pred):\n",
        "    true_positives = K.sum(K.round(K.clip(y_true * y_pred, 0, 1)))\n",
        "    possible_positives = K.sum(K.round(K.clip(y_true, 0, 1)))\n",
        "    recall = true_positives / (possible_positives + K.epsilon())\n",
        "    return recall\n",
        "\n",
        "def precision_m(y_true, y_pred):\n",
        "    true_positives = K.sum(K.round(K.clip(y_true * y_pred, 0, 1)))\n",
        "    predicted_positives = K.sum(K.round(K.clip(y_pred, 0, 1)))\n",
        "    precision = true_positives / (predicted_positives + K.epsilon())\n",
        "    return precision\n",
        "\n",
        "def f1_m(y_true, y_pred):\n",
        "    precision = precision_m(y_true, y_pred)\n",
        "    recall = recall_m(y_true, y_pred)\n",
        "    return 2*((precision*recall)/(precision+recall+K.epsilon()))"
      ]
    },
    {
      "cell_type": "markdown",
      "metadata": {
        "id": "N70dgLtp0K78"
      },
      "source": [
        "## Modelo VGG16 - Sin y Con Regularización - Sin Data Augmentation - Con Fine Tunning\n",
        "\n",
        "\n",
        "\n"
      ]
    },
    {
      "cell_type": "markdown",
      "metadata": {
        "id": "YN10KeGIGRf6"
      },
      "source": [
        "---\n",
        "\n",
        "Variando Dropout"
      ]
    },
    {
      "cell_type": "markdown",
      "metadata": {
        "id": "70Uya6VJ3bD9"
      },
      "source": [
        "Instanciando la red pre-entrenada VGG16 sin expansión de datos "
      ]
    },
    {
      "cell_type": "code",
      "execution_count": null,
      "metadata": {
        "colab": {
          "base_uri": "https://localhost:8080/"
        },
        "id": "acqUefiv3Xk9",
        "outputId": "36d6e1c0-b437-4c10-c6d1-19f3e6fe2ea5"
      },
      "outputs": [
        {
          "name": "stdout",
          "output_type": "stream",
          "text": [
            "Downloading data from https://storage.googleapis.com/tensorflow/keras-applications/vgg16/vgg16_weights_tf_dim_ordering_tf_kernels_notop.h5\n",
            "58889256/58889256 [==============================] - 3s 0us/step\n"
          ]
        }
      ],
      "source": [
        "conv_base = keras.applications.vgg16.VGG16(\n",
        "    weights=\"imagenet\",\n",
        "    include_top=False,\n",
        "    input_shape=(180, 180, 3))"
      ]
    },
    {
      "cell_type": "markdown",
      "metadata": {
        "id": "Vs4Y21xh3wvc"
      },
      "source": [
        "La fase de entrenamiento podrá alterar los pesos de las n últimas capas"
      ]
    },
    {
      "cell_type": "code",
      "execution_count": null,
      "metadata": {
        "id": "az7d8jx73y99"
      },
      "outputs": [],
      "source": [
        "n_capas_alt = 4\n",
        "conv_base.trainable = True\n",
        "for layer in conv_base.layers[:-n_capas_alt]:\n",
        "    layer.trainable = False"
      ]
    },
    {
      "cell_type": "markdown",
      "metadata": {
        "id": "31Ch9DvxGRf6"
      },
      "source": [
        "Resumen red VGG16"
      ]
    },
    {
      "cell_type": "code",
      "execution_count": null,
      "metadata": {
        "colab": {
          "base_uri": "https://localhost:8080/"
        },
        "id": "V4uwb1tU33nd",
        "outputId": "604b5050-2a4a-4cbe-9f6c-d631aa291cbb"
      },
      "outputs": [
        {
          "name": "stdout",
          "output_type": "stream",
          "text": [
            "Model: \"vgg16\"\n",
            "_________________________________________________________________\n",
            " Layer (type)                Output Shape              Param #   \n",
            "=================================================================\n",
            " input_1 (InputLayer)        [(None, 180, 180, 3)]     0         \n",
            "                                                                 \n",
            " block1_conv1 (Conv2D)       (None, 180, 180, 64)      1792      \n",
            "                                                                 \n",
            " block1_conv2 (Conv2D)       (None, 180, 180, 64)      36928     \n",
            "                                                                 \n",
            " block1_pool (MaxPooling2D)  (None, 90, 90, 64)        0         \n",
            "                                                                 \n",
            " block2_conv1 (Conv2D)       (None, 90, 90, 128)       73856     \n",
            "                                                                 \n",
            " block2_conv2 (Conv2D)       (None, 90, 90, 128)       147584    \n",
            "                                                                 \n",
            " block2_pool (MaxPooling2D)  (None, 45, 45, 128)       0         \n",
            "                                                                 \n",
            " block3_conv1 (Conv2D)       (None, 45, 45, 256)       295168    \n",
            "                                                                 \n",
            " block3_conv2 (Conv2D)       (None, 45, 45, 256)       590080    \n",
            "                                                                 \n",
            " block3_conv3 (Conv2D)       (None, 45, 45, 256)       590080    \n",
            "                                                                 \n",
            " block3_pool (MaxPooling2D)  (None, 22, 22, 256)       0         \n",
            "                                                                 \n",
            " block4_conv1 (Conv2D)       (None, 22, 22, 512)       1180160   \n",
            "                                                                 \n",
            " block4_conv2 (Conv2D)       (None, 22, 22, 512)       2359808   \n",
            "                                                                 \n",
            " block4_conv3 (Conv2D)       (None, 22, 22, 512)       2359808   \n",
            "                                                                 \n",
            " block4_pool (MaxPooling2D)  (None, 11, 11, 512)       0         \n",
            "                                                                 \n",
            " block5_conv1 (Conv2D)       (None, 11, 11, 512)       2359808   \n",
            "                                                                 \n",
            " block5_conv2 (Conv2D)       (None, 11, 11, 512)       2359808   \n",
            "                                                                 \n",
            " block5_conv3 (Conv2D)       (None, 11, 11, 512)       2359808   \n",
            "                                                                 \n",
            " block5_pool (MaxPooling2D)  (None, 5, 5, 512)         0         \n",
            "                                                                 \n",
            "=================================================================\n",
            "Total params: 14,714,688\n",
            "Trainable params: 7,079,424\n",
            "Non-trainable params: 7,635,264\n",
            "_________________________________________________________________\n"
          ]
        }
      ],
      "source": [
        "conv_base.summary()"
      ]
    },
    {
      "cell_type": "markdown",
      "metadata": {
        "id": "ZSl_vhsquUzz"
      },
      "source": [
        "Entrenar la red variando Dropout"
      ]
    },
    {
      "cell_type": "code",
      "execution_count": null,
      "metadata": {
        "colab": {
          "base_uri": "https://localhost:8080/",
          "height": 736
        },
        "id": "-2KXfQLpuUz1",
        "outputId": "d1667aed-8870-4116-b4fb-53b617d05594"
      },
      "outputs": [
        {
          "name": "stdout",
          "output_type": "stream",
          "text": [
            "10/10 [==============================] - 118s 1s/step - loss: 2.8121 - accuracy: 0.7045 - f1_m: 0.7494 - precision_m: 0.7744 - recall_m: 0.7359\n",
            "10/10 [==============================] - 5s 140ms/step - loss: 3.0487 - accuracy: 0.7240 - f1_m: 0.7986 - precision_m: 0.7205 - recall_m: 0.9044\n",
            "10/10 [==============================] - 4s 139ms/step - loss: 1.2709 - accuracy: 0.8377 - f1_m: 0.8578 - precision_m: 0.8976 - recall_m: 0.8275\n",
            "10/10 [==============================] - 4s 141ms/step - loss: 0.6388 - accuracy: 0.9188 - f1_m: 0.9335 - precision_m: 0.9474 - recall_m: 0.9219\n",
            "10/10 [==============================] - 4s 137ms/step - loss: 0.6811 - accuracy: 0.8052 - f1_m: 0.8398 - precision_m: 0.8518 - recall_m: 0.8349\n"
          ]
        },
        {
          "data": {
            "image/png": "[encoded data removed]",
            "text/plain": [
              "<Figure size 432x288 with 1 Axes>"
            ]
          },
          "metadata": {
            "needs_background": "light"
          },
          "output_type": "display_data"
        },
        {
          "data": {
            "image/png": "[encoded data removed]",
            "text/plain": [
              "<Figure size 864x288 with 2 Axes>"
            ]
          },
          "metadata": {
            "needs_background": "light"
          },
          "output_type": "display_data"
        },
        {
          "name": "stdout",
          "output_type": "stream",
          "text": [
            "Mejores resultados: con 0.65 Dropout \n",
            "test_loss: 0.6388\n",
            "test_accuracy: 0.9188\n",
            "test_f1_score: 0.9335\n",
            "test_precision: 0.9474\n",
            "test_recall: 0.9219\n"
          ]
        }
      ],
      "source": [
        "v_dropout = [0, 0.35, 0.5, 0.65, 0.85]\n",
        "\n",
        "#Inicializar variables para realizar proceso\n",
        "v_test_loss = []\n",
        "v_test_acc = []\n",
        "v_test_f1_score = []\n",
        "v_test_precision = []\n",
        "v_test_recall = []\n",
        "\n",
        "candidate_history = []\n",
        "\n",
        "#Iterar dropout\n",
        "for dropout in v_dropout:\n",
        "  #Instanciando la red pre-entrenada VGG16\n",
        "  conv_base = keras.applications.vgg16.VGG16(\n",
        "    weights=\"imagenet\",\n",
        "    include_top=False,\n",
        "    input_shape=(180, 180, 3))\n",
        "  #La fase de entrenamiento podrá alterar los pesos de las n últimas capas\n",
        "  n_capas_alt = 4\n",
        "  conv_base.trainable = True\n",
        "  for layer in conv_base.layers[:-n_capas_alt]:\n",
        "      layer.trainable = False\n",
        "\n",
        "  #Definir arquitectura e hiperparámetros de entrenamiento\n",
        "  inputs = keras.Input(shape=(180, 180, 3))\n",
        "  x = keras.applications.vgg16.preprocess_input(inputs)\n",
        "  x = conv_base(x)\n",
        "  x = layers.Flatten()(x)\n",
        "  x = layers.Dense(256)(x)\n",
        "  x = layers.Dropout(dropout)(x)\n",
        "  outputs = layers.Dense(1, activation=\"sigmoid\")(x)\n",
        "  model = keras.Model(inputs, outputs)\n",
        "\n",
        "  \n",
        "  model.compile(loss=\"binary_crossentropy\",\n",
        "                optimizer=keras.optimizers.Adam(learning_rate=1e-5),\n",
        "                metrics=[\"accuracy\",f1_m,precision_m, recall_m])\n",
        "\n",
        "  #Fase de entrenamiento\n",
        "  history = model.fit(\n",
        "    train_dataset,\n",
        "    epochs=60,\n",
        "    validation_data=validation_dataset, verbose=0)\n",
        "  candidate_history.append(history)\n",
        "\n",
        "  test_loss, test_acc, test_f1_score, test_precision, test_recall = model.evaluate(test_dataset)\n",
        "  v_test_loss.append(test_loss)\n",
        "  v_test_acc.append(test_acc)\n",
        "  v_test_f1_score.append(test_f1_score)\n",
        "  v_test_precision.append(test_precision)\n",
        "  v_test_recall.append(test_recall)\n",
        "\n",
        "#Como arreglo\n",
        "v_test_loss = np.array(v_test_loss)\n",
        "v_test_acc = np.array(v_test_acc)\n",
        "v_test_f1_score = np.array(v_test_f1_score)\n",
        "v_test_precision = np.array(v_test_precision)\n",
        "v_test_recall = np.array(v_test_recall)\n",
        "\n",
        "#Gráficar f1_score vs dropout\n",
        "plt.figure()\n",
        "plt.plot(v_dropout, v_test_f1_score, marker='o', label=\"f1_score\", color=\"blue\")\n",
        "plt.title(\"f1_score vs dropout\")\n",
        "plt.legend()\n",
        "plt.show()\n",
        "\n",
        "#Mejor resultado dropout\n",
        "loc_best_result = np.where(v_test_f1_score == max(v_test_f1_score))[0][0]\n",
        "\n",
        "#training vs validation con mejor resultado dropout\n",
        "best_history = candidate_history[loc_best_result]\n",
        "\n",
        "f1 = history.history[\"f1_m\"]\n",
        "val_f1 = history.history[\"val_f1_m\"]\n",
        "loss = best_history.history[\"loss\"]\n",
        "val_loss = best_history.history[\"val_loss\"]\n",
        "epochs = range(1, len(f1) + 1)\n",
        "\n",
        "#Visualizar f1_score y pérdida con mejor resultado dropout durante entrenamiento\n",
        "fig, (ax1, ax2) = plt.subplots(1,2,figsize=(12,4))\n",
        "ax1.plot(epochs, f1, \"bo\", label=\"Training f1_score\")\n",
        "ax1.plot(epochs, val_f1, \"b\", label=\"Validation f1_score\")\n",
        "ax1.set_title(\"Training and validation f1_score\")\n",
        "ax1.legend()\n",
        "ax2.plot(epochs, loss, \"bo\", label=\"Training loss\")\n",
        "ax2.plot(epochs, val_loss, \"b\", label=\"Validation loss\")\n",
        "ax2.set_title(\"Training and validation loss\")\n",
        "ax2.legend()\n",
        "plt.show()\n",
        "\n",
        "#Verificar desempeño en test con mejor resultado dropout\n",
        "print(\"Mejores resultados: con %.2f Dropout \" % v_dropout[loc_best_result])\n",
        "print(\"test_loss: %.4f\" % v_test_loss[loc_best_result])\n",
        "print(\"test_accuracy: %.4f\" % v_test_acc[loc_best_result])\n",
        "print(\"test_f1_score: %.4f\" % v_test_f1_score[loc_best_result])\n",
        "print(\"test_precision: %.4f\" % v_test_precision[loc_best_result])\n",
        "print(\"test_recall: %.4f\" % v_test_recall[loc_best_result])"
      ]
    }
  ],
  "metadata": {
    "accelerator": "GPU",
    "colab": {
      "provenance": []
    },
    "gpuClass": "standard",
    "kernelspec": {
      "display_name": "Python 3.9.5 64-bit",
      "language": "python",
      "name": "python3"
    },
    "language_info": {
      "codemirror_mode": {
        "name": "ipython",
        "version": 3
      },
      "file_extension": ".py",
      "mimetype": "text/x-python",
      "name": "python",
      "nbconvert_exporter": "python",
      "pygments_lexer": "ipython3",
      "version": "3.9.5"
    },
    "vscode": {
      "interpreter": {
        "hash": "4ff442374353e7cd8d0b317b986b0b774c361b92b00d7ea43e4b1384f67d1c1b"
      }
    }
  },
  "nbformat": 4,
  "nbformat_minor": 0
}
